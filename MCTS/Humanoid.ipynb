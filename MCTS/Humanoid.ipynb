{
  "cells": [
    {
      "cell_type": "markdown",
      "metadata": {
        "id": "view-in-github",
        "colab_type": "text"
      },
      "source": [
        "<a href=\"https://colab.research.google.com/github/abhg86/GGP_Breakthrough/blob/main/MCTS/Humanoid.ipynb\" target=\"_parent\"><img src=\"https://colab.research.google.com/assets/colab-badge.svg\" alt=\"Open In Colab\"/></a>"
      ]
    },
    {
      "cell_type": "code",
      "execution_count": null,
      "id": "3801cb2c",
      "metadata": {
        "id": "3801cb2c"
      },
      "outputs": [],
      "source": [
        "!pip install gymnasium\n",
        "!pip install mujoco\n",
        "!pip install imageio"
      ]
    },
    {
      "cell_type": "code",
      "execution_count": null,
      "id": "fab0c185",
      "metadata": {
        "id": "fab0c185"
      },
      "outputs": [],
      "source": [
        "import gymnasium as gym\n",
        "import sys\n",
        "\n",
        "env = gym.make('Humanoid-v5', ctrl_cost_weight=0.1, render_mode='human')\n",
        "\n",
        "# Play 100 playouts and keep the best\n",
        "bestSumReward = -1000\n",
        "bestListActions = []\n",
        "for i in range (10):\n",
        "    observation, info = env.reset()\n",
        "    terminated = False\n",
        "    sumReward = 0\n",
        "    listActions = []\n",
        "    while not terminated:\n",
        "        action = env.action_space.sample()\n",
        "        listActions.append (action)\n",
        "\n",
        "        # step (transition) through the environment with the action\n",
        "        # receiving the next observation, reward and if the episode has terminated or truncated\n",
        "        observation, reward, terminated, truncated, info = env.step(action)\n",
        "        sumReward += reward\n",
        "    sys.stdout.write (str (sumReward) + ' ')\n",
        "    if sumReward > bestSumReward:\n",
        "        bestSumReward = sumReward\n",
        "        bestListActions = listActions\n",
        "print ()\n",
        "print (bestListActions)\n",
        "print (bestSumReward)\n",
        "env.close()"
      ]
    }
  ],
  "metadata": {
    "kernelspec": {
      "display_name": "Python 3 (ipykernel)",
      "language": "python",
      "name": "python3"
    },
    "language_info": {
      "codemirror_mode": {
        "name": "ipython",
        "version": 3
      },
      "file_extension": ".py",
      "mimetype": "text/x-python",
      "name": "python",
      "nbconvert_exporter": "python",
      "pygments_lexer": "ipython3",
      "version": "3.10.12"
    },
    "colab": {
      "provenance": [],
      "include_colab_link": true
    }
  },
  "nbformat": 4,
  "nbformat_minor": 5
}